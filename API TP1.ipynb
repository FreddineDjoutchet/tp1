{
 "cells": [
  {
   "cell_type": "markdown",
   "id": "0f8886ab-ecff-4e8a-b75e-a5f861f294b8",
   "metadata": {},
   "source": [
    "## API qui présente un intérêt pour enrichir les bulletins"
   ]
  },
  {
   "cell_type": "markdown",
   "id": "73dbf61b-d76d-4248-8861-46f214fbae91",
   "metadata": {},
   "source": [
    "#### afficher la lattitude et la longitude de la ville de Bruxelles"
   ]
  },
  {
   "cell_type": "code",
   "execution_count": 8,
   "id": "3ad3c7a9-3229-4d6b-9ac4-d323fe33a9af",
   "metadata": {},
   "outputs": [],
   "source": [
    "import json\n",
    "import requests\n"
   ]
  },
  {
   "cell_type": "code",
   "execution_count": 7,
   "id": "1abb1354-a873-4bbc-9619-e62f2d691df1",
   "metadata": {},
   "outputs": [
    {
     "name": "stdout",
     "output_type": "stream",
     "text": [
      "<class 'dict'>\n",
      "{'message': 'success', 'request': {'altitude': 100, 'datetime': 1635784168, 'latitude': 50.84, 'longitude': 4.34, 'passes': 5}, 'response': [{'duration': 275, 'risetime': 1635809791}, {'duration': 602, 'risetime': 1635815372}, {'duration': 655, 'risetime': 1635821132}, {'duration': 657, 'risetime': 1635826943}, {'duration': 651, 'risetime': 1635832755}]}\n",
      "275\n"
     ]
    }
   ],
   "source": [
    "parameters = {\"lat\": 50.84, \"lon\":4.34}\n",
    "response = requests.get(\"http://api.open-notify.org/iss-pass.json\",\n",
    "                        params=parameters)\n",
    "json_data = response.json()\n",
    "print(type(json_data))\n",
    "print(json_data)\n",
    "first_pass_duration = json_data['response'][0]['duration']\n",
    "print(first_pass_duration)"
   ]
  }
 ],
 "metadata": {
  "kernelspec": {
   "display_name": "Python 3 (ipykernel)",
   "language": "python",
   "name": "python3"
  },
  "language_info": {
   "codemirror_mode": {
    "name": "ipython",
    "version": 3
   },
   "file_extension": ".py",
   "mimetype": "text/x-python",
   "name": "python",
   "nbconvert_exporter": "python",
   "pygments_lexer": "ipython3",
   "version": "3.9.7"
  }
 },
 "nbformat": 4,
 "nbformat_minor": 5
}
